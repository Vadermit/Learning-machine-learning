{
 "cells": [
  {
   "cell_type": "markdown",
   "metadata": {},
   "source": [
    "# Linear regression with Alternative least square method(ALS)\n",
    "\n",
    "Linear regression is the most basic application of machine learning. There are many approaches can do linear regression like: gradient descent, least square, variational bayes and neural network etc. Now we are going to solve the following multivariate linear regression with gradient descent.\n",
    "\n",
    "$$y = f(\\boldsymbol{X}) = \\omega_1 x_1 + \\omega_2 x_2 + \\omega_3 x_3 \\dots \\omega_n x_n + b$$\n",
    "\n",
    "Where <span style=\"color:blue\">$\\boldsymbol{X} = {x_1, x_2, x_3, \\dots, x_n} $ </span> are variables, <span style=\"color:blue\">$\\boldsymbol{W} = {\\omega_1, \\omega_2, \\dots, \\omega_n}$</span> are weights of the linear model and <span style=\"color:blue\">$b$</span> is the bias."
   ]
  },
  {
   "cell_type": "markdown",
   "metadata": {},
   "source": [
    "## Alternative least square method(ALS)\n",
    "Firstly, the parameters in the linear model(eg.<span style=\"color:blue\"> $\\omega$</span> and <span style=\"color:blue\">$b$</span>) are . And then the loss function denoting the distance between true value and predicted value is calculated as follow:\n",
    "\n",
    "$$\\Theta(\\boldsymbol{w}) = \\sum_{i=1}^{N}(f(\\boldsymbol{X}_i) - y_i)^2 $$\n",
    "\n",
    "Where <span style=\"color:blue\">$N$</span> is the number of data points.\n",
    "\n",
    "Then alternative least square method(ALS) is used to iteratively update the parameters <span style=\"color:blue\">$\\boldsymbol{W}$</span> and <span style=\"color:blue\"> $b$ </span>. First, the partial derivative of <span style=\"color:blue\"> $\\Theta$</span> with respect to <span style=\"color:blue\"> $\\boldsymbol{W}$ </span> and <span style=\"color:blue\"> $b$ </span> are calculated as follows:\n",
    "\n",
    "$$\\frac{\\partial{\\Theta}}{\\partial{\\boldsymbol{W}}} = 2 \\sum_{i=1}^N (\\boldsymbol{W}^\\top\\boldsymbol{X}_i + b - y_i)\\boldsymbol{X}_i$$\n",
    "\n",
    "$$\\frac{\\partial{\\Theta}}{\\partial{b}} = 2 \\sum_{i=1}^N (\\boldsymbol{W}^\\top\\boldsymbol{X}_i + b - y_i)$$"
   ]
  },
  {
   "cell_type": "markdown",
   "metadata": {},
   "source": [
    "## Gradient descent\n",
    "The partial derivatives derived above are used as momentum through which the parameters are updated to minimise the loss. The parameters <span style=\"color:blue\"> $\\boldsymbol{W}$ </span> and <span style=\"color:blue\"> $b$ </span> are alternatively updated using gradient descent by follows:\n",
    "\n",
    "$$\\boldsymbol{W}_t = \\boldsymbol{W}_{t-1} - \\alpha_w \\frac{\\partial{\\Theta}}{\\partial{\\boldsymbol{W}}}$$\n",
    "\n",
    "$$b_t = b_{t-1} - \\alpha_b \\frac{\\partial{\\Theta}}{\\partial{b}}$$"
   ]
  },
  {
   "cell_type": "code",
   "execution_count": 45,
   "metadata": {},
   "outputs": [],
   "source": [
    "import numpy as np\n",
    "import matplotlib.pyplot as plt"
   ]
  },
  {
   "cell_type": "code",
   "execution_count": 46,
   "metadata": {},
   "outputs": [],
   "source": [
    "#X is a N by n matrix which is N observations of the n dimensional points.\n",
    "#y is the functional value of the observations X.\n",
    "#iniW and inib are inital parameters.\n",
    "#alpha_w and alpha_b are the learning rate with respect to W and b\n",
    "#maxiter is the max itteration times of the ALS process.\n",
    "def linreg_als(X, Y, iniW, inib, alpha_w, alpha_b, maxiter):\n",
    "    W = iniW\n",
    "    b = inib\n",
    "    for i in range(maxiter):\n",
    "        deriv_w = 2 * np.sum(np.multiply(X.T, (np.matmul(X, W) + b * np.ones(N) - Y)), axis = 1)\n",
    "        deriv_b = 2 * np.sum(np.matmul(X, W) + b * np.ones(N) - Y)\n",
    "        W = W - alpha_w * deriv_w\n",
    "        b = b - alpha_b * deriv_b\n",
    "    return W, b"
   ]
  },
  {
   "cell_type": "code",
   "execution_count": 62,
   "metadata": {},
   "outputs": [
    {
     "name": "stdout",
     "output_type": "stream",
     "text": [
      "Authentic value of weight W is:\n",
      "[0.19555905]\n",
      "\n",
      "Authentic value of bias b is:\n",
      "0.05338976094031972\n",
      "\n",
      "Weight calculated by ALS is:\n",
      "[0.22127266]\n",
      "\n",
      "Bias calculated by ALS is:\n",
      "0.19376024265459244\n",
      "\n"
     ]
    },
    {
     "data": {
      "image/png": "[encoded data removed]",
      "text/plain": [
       "<Figure size 432x288 with 1 Axes>"
      ]
     },
     "metadata": {
      "needs_background": "light"
     },
     "output_type": "display_data"
    }
   ],
   "source": [
    "n = 1\n",
    "N = 100\n",
    "X = np.random.rand(N, n)\n",
    "W_auth = np.random.rand(n)\n",
    "b_auth = np.random.normal()\n",
    "alpha_w = 0.001\n",
    "alpha_b = 0.001\n",
    "maxiter = 1000\n",
    "\n",
    "Y = np.matmul(X, W_auth) + b_auth * np.ones(N) + np.random.rand(N)*0.3\n",
    "iniW = np.random.rand(n)\n",
    "inib = np.random.normal()\n",
    "\n",
    "W, b = linreg_als(X, Y, iniW, inib, alpha_w, alpha_b, maxiter)\n",
    "print(\"Authentic value of weight W is:\")\n",
    "print(W_auth) \n",
    "print()\n",
    "print(\"Authentic value of bias b is:\")\n",
    "print(b_auth)\n",
    "print()\n",
    "print(\"Weight calculated by ALS is:\")\n",
    "print(W)\n",
    "print()\n",
    "print(\"Bias calculated by ALS is:\")\n",
    "print(b)\n",
    "print()\n",
    "\n",
    "if n == 1:\n",
    "    plt.scatter(X, Y)\n",
    "    x = np.linspace(0, 1, 100)\n",
    "    y = np.multiply(x, W) + b * np.ones(N)\n",
    "    plt.plot(x, y, \"r\")"
   ]
  },
  {
   "cell_type": "code",
   "execution_count": null,
   "metadata": {},
   "outputs": [],
   "source": []
  }
 ],
 "metadata": {
  "kernelspec": {
   "display_name": "Python 3",
   "language": "python",
   "name": "python3"
  },
  "language_info": {
   "codemirror_mode": {
    "name": "ipython",
    "version": 3
   },
   "file_extension": ".py",
   "mimetype": "text/x-python",
   "name": "python",
   "nbconvert_exporter": "python",
   "pygments_lexer": "ipython3",
   "version": "3.7.3"
  }
 },
 "nbformat": 4,
 "nbformat_minor": 2
}
