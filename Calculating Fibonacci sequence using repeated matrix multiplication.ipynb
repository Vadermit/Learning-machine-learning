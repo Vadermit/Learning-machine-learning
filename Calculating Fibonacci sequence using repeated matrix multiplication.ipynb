{
 "cells": [
  {
   "cell_type": "markdown",
   "metadata": {},
   "source": [
    "# Calculating Fibonacci sequence using repeated matrix multiplication\n",
    "\n",
    "0, 1, 1, 2, 3, 5, 8, 13, 21, 34"
   ]
  },
  {
   "cell_type": "code",
   "execution_count": 1,
   "metadata": {},
   "outputs": [],
   "source": [
    "import numpy as np"
   ]
  },
  {
   "cell_type": "code",
   "execution_count": 2,
   "metadata": {},
   "outputs": [
    {
     "data": {
      "text/plain": [
       "array([[0, 1],\n",
       "       [1, 1]])"
      ]
     },
     "execution_count": 2,
     "metadata": {},
     "output_type": "execute_result"
    }
   ],
   "source": [
    "F = np.array([[0,1],[1,1]])\n",
    "F"
   ]
  },
  {
   "cell_type": "code",
   "execution_count": 3,
   "metadata": {},
   "outputs": [
    {
     "name": "stdout",
     "output_type": "stream",
     "text": [
      "[[1. 0.]\n",
      " [0. 1.]]\n",
      "\n",
      "[[0. 1.]\n",
      " [1. 1.]]\n",
      "\n",
      "[[1. 1.]\n",
      " [1. 2.]]\n",
      "\n",
      "[[1. 2.]\n",
      " [2. 3.]]\n",
      "\n",
      "[[2. 3.]\n",
      " [3. 5.]]\n",
      "\n",
      "[[3. 5.]\n",
      " [5. 8.]]\n",
      "\n",
      "[[ 5.  8.]\n",
      " [ 8. 13.]]\n",
      "\n",
      "[[ 8. 13.]\n",
      " [13. 21.]]\n",
      "\n",
      "[[13. 21.]\n",
      " [21. 34.]]\n",
      "\n",
      "[[21. 34.]\n",
      " [34. 55.]]\n",
      "\n"
     ]
    }
   ],
   "source": [
    "for i in range(10):\n",
    "    F_n = np.eye(2)\n",
    "    for j in range(i):\n",
    "        F_n = np.matmul(F_n, F)\n",
    "    print(F_n)\n",
    "    print()"
   ]
  },
  {
   "cell_type": "code",
   "execution_count": null,
   "metadata": {},
   "outputs": [],
   "source": []
  }
 ],
 "metadata": {
  "kernelspec": {
   "display_name": "Python 3",
   "language": "python",
   "name": "python3"
  },
  "language_info": {
   "codemirror_mode": {
    "name": "ipython",
    "version": 3
   },
   "file_extension": ".py",
   "mimetype": "text/x-python",
   "name": "python",
   "nbconvert_exporter": "python",
   "pygments_lexer": "ipython3",
   "version": "3.7.3"
  },
  "nbTranslate": {
   "displayLangs": [
    "*"
   ],
   "hotkey": "alt-t",
   "langInMainMenu": true,
   "sourceLang": "en",
   "targetLang": "fr",
   "useGoogleTranslate": true
  }
 },
 "nbformat": 4,
 "nbformat_minor": 2
}
