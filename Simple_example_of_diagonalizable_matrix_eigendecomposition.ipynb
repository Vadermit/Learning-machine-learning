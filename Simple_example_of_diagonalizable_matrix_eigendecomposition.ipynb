{
 "cells": [
  {
   "cell_type": "markdown",
   "metadata": {},
   "source": [
    "# Eigendecomposition of diagonalizable matrix\n",
    "For a **$n \\times n$** diagonalizable matrix **$A$** , there exist **$n$** independent eigenvectors **$q_i, i = 1, 2, 3, ..., n$** and there corresponding eigenvalues **v_i, i = 1, 2, 3, ..., n**. Then the diagonalizable matrix **$A$** can be decomposde as:\n",
    "\n",
    "$$A = Q\\Lambda Q^{-1}$$\n",
    "\n",
    "Where,\n",
    "$$Q = [p_1, p_2, p_3, ..., p_n]$$\n",
    "\n",
    "$$\\Lambda = diag([v_1, v_2, v_3, ..., v_n])$$\n",
    "\n",
    "Here is a small demostration of eigendecomposition."
   ]
  },
  {
   "cell_type": "code",
   "execution_count": 1,
   "metadata": {},
   "outputs": [],
   "source": [
    "import numpy as np\n",
    "from numpy import linalg as LA"
   ]
  },
  {
   "cell_type": "code",
   "execution_count": 2,
   "metadata": {},
   "outputs": [
    {
     "data": {
      "text/plain": [
       "array([[ 1,  2,  3],\n",
       "       [ 3,  2,  1],\n",
       "       [ 1,  0, -1]])"
      ]
     },
     "execution_count": 2,
     "metadata": {},
     "output_type": "execute_result"
    }
   ],
   "source": [
    "A = np.array([[1,2,3],[3,2,1],[1,0,-1]])\n",
    "A"
   ]
  },
  {
   "cell_type": "code",
   "execution_count": 3,
   "metadata": {},
   "outputs": [
    {
     "name": "stdout",
     "output_type": "stream",
     "text": [
      "[ 4.31662479e+00 -2.31662479e+00  1.47314580e-16]\n",
      "\n",
      "[[ 0.58428153  0.73595785  0.40824829]\n",
      " [ 0.80407569 -0.38198836 -0.81649658]\n",
      " [ 0.10989708 -0.55897311  0.40824829]]\n"
     ]
    }
   ],
   "source": [
    "v, Q = LA.eig(A)\n",
    "print(v)\n",
    "print()\n",
    "print(Q)"
   ]
  },
  {
   "cell_type": "markdown",
   "metadata": {},
   "source": [
    "You should notice that the Q here is the eigenvector matrix **$Q$** mentioned above."
   ]
  },
  {
   "cell_type": "code",
   "execution_count": 4,
   "metadata": {},
   "outputs": [
    {
     "name": "stdout",
     "output_type": "stream",
     "text": [
      "Ap_1 = \n",
      "[2.52212416 3.47089307 0.47438446]\n",
      "v_1p_1 = \n",
      "[2.52212416 3.1768539  1.76225469]\n"
     ]
    }
   ],
   "source": [
    "print('Ap_1 = ')\n",
    "print(np.matmul(A, Q[:, 0]))\n",
    "print('v_1p_1 = ')\n",
    "print(v[0] * Q[0, :])"
   ]
  },
  {
   "cell_type": "markdown",
   "metadata": {},
   "source": [
    "And the matrix **Lambda** here is the diagonal eigenvalue matrix **$\\Lambda$** mentioned above."
   ]
  },
  {
   "cell_type": "code",
   "execution_count": 5,
   "metadata": {},
   "outputs": [
    {
     "data": {
      "text/plain": [
       "array([[ 4.31662479e+00,  0.00000000e+00,  0.00000000e+00],\n",
       "       [ 0.00000000e+00, -2.31662479e+00,  0.00000000e+00],\n",
       "       [ 0.00000000e+00,  0.00000000e+00,  1.47314580e-16]])"
      ]
     },
     "execution_count": 5,
     "metadata": {},
     "output_type": "execute_result"
    }
   ],
   "source": [
    "Lambda = np.diag(v)\n",
    "Lambda"
   ]
  },
  {
   "cell_type": "code",
   "execution_count": 6,
   "metadata": {},
   "outputs": [
    {
     "data": {
      "text/plain": [
       "array([[ 1.00000000e+00,  2.00000000e+00,  3.00000000e+00],\n",
       "       [ 3.00000000e+00,  2.00000000e+00,  1.00000000e+00],\n",
       "       [ 1.00000000e+00,  3.03603991e-16, -1.00000000e+00]])"
      ]
     },
     "execution_count": 6,
     "metadata": {},
     "output_type": "execute_result"
    }
   ],
   "source": [
    "A_ = np.matmul(np.matmul(Q, Lambda), np.linalg.inv(Q))\n",
    "A_"
   ]
  },
  {
   "cell_type": "markdown",
   "metadata": {},
   "source": [
    "You can see, the decomposed **$Q \\Lambda Q^{-1}$** is exactly the same as the original matrix **$A$**."
   ]
  },
  {
   "cell_type": "code",
   "execution_count": null,
   "metadata": {},
   "outputs": [],
   "source": []
  }
 ],
 "metadata": {
  "kernelspec": {
   "display_name": "Python 3",
   "language": "python",
   "name": "python3"
  },
  "language_info": {
   "codemirror_mode": {
    "name": "ipython",
    "version": 3
   },
   "file_extension": ".py",
   "mimetype": "text/x-python",
   "name": "python",
   "nbconvert_exporter": "python",
   "pygments_lexer": "ipython3",
   "version": "3.7.3"
  },
  "nbTranslate": {
   "displayLangs": [
    "*"
   ],
   "hotkey": "alt-t",
   "langInMainMenu": true,
   "sourceLang": "en",
   "targetLang": "fr",
   "useGoogleTranslate": true
  }
 },
 "nbformat": 4,
 "nbformat_minor": 2
}
