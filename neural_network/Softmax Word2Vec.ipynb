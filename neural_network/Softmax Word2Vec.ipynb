{
 "cells": [
  {
   "cell_type": "markdown",
   "metadata": {},
   "source": [
    "# Softmax Word2Vec method\n",
    "\n",
    "> About the autor: Jinming Yang is currently an undergraduate school student at Sun Yet-san University who focuses on transportation research and machine learning.\n",
    "\n",
    "For a 10000 word vocabulary, using one-hot vectors as the representation of each word in a neural network is computational expensive. Besides, one-hot vectors can not represent the correlations between words like \"Soviet\" and \"Union\", \"United\" and \"States\"... So we need a new representation of those words. These new representations of words have much lower dimension like 128. The correlations between strong connected words can be reflected in their corresponding representations.\n",
    "\n",
    "In order to do that, **Word2Vec** was introduced to derive those word representations. Hereby, we'll mainly focuse on the **Softmax Word2Vec method**."
   ]
  },
  {
   "cell_type": "markdown",
   "metadata": {},
   "source": [
    "## Methodology\n",
    "Basically the Softmax Word2Vec method use an three layer autoencoder neural network to derive word representations. The first layer is the input layer consists of 10000 neurons(units). The second layer is the hidden layer which consists of 128 neurons(no activation function). The third layer is the softmax layer which consists of 10000 neurons.\n",
    "\n",
    "**Network setting**\n",
    "\n",
    "|`Network Layer`  |`Number of neurons`|`Activation`|\n",
    "|:----------------|------------------:|-----------:|\n",
    "|**Input layer**  |     **10000**     |  **None**  |\n",
    "|**Hidden layer** |      **128**      |  **None**  |\n",
    "|**Output layer** |     **10000**     |**Sigmoid** |"
   ]
  },
  {
   "cell_type": "code",
   "execution_count": 3,
   "metadata": {},
   "outputs": [],
   "source": [
    "import numpy as np\n",
    "import tensorflow as tf\n",
    "import collections\n",
    "import math"
   ]
  },
  {
   "cell_type": "markdown",
   "metadata": {},
   "source": [
    "### Preparing the corpus\n",
    "Downloading the corpus in \"mattmahoney.net/dc/text8.zip\". For researchers in main land China the website won't be available. You can also download it in my GitHub repositry \"Learning Machine Learning\"."
   ]
  },
  {
   "cell_type": "code",
   "execution_count": 6,
   "metadata": {},
   "outputs": [
    {
     "name": "stdout",
     "output_type": "stream",
     "text": [
      " aer banknote berlitz calloway centrust cluett fromstein gitano guterman hydro-quebec ipo kia memotec mlx nahb punts rake regatta rubens sim snack-food ssangyong swapo wachter \n",
      " pierre <unk> N years old will join the board as a nonexecutive director nov. N \n",
      " mr. <unk> is chairman of <unk> n.v. the dutch publishing group \n",
      " rudolph <unk> N years old and former chairman of consolidated gold fields plc was named a nonexecutive director of this british industrial conglomerate \n",
      " a form of asbestos once used to make kent cigarette filters has caused a high percentage of cancer deaths among a group of workers exposed to it more than N years ago researchers reported \n",
      " the asbestos fiber <unk> is unusually <unk> once it enters the <unk> with even brief exposures to it causing symptoms that show up decades later researchers said \n",
      " <unk> inc. the unit of new york-based <unk> corp. that makes kent cigarettes stopped using <unk> in its <unk> cigarette filters in N \n",
      " although preliminary findings wer\n"
     ]
    }
   ],
   "source": [
    "#Read the file\n",
    "f = open(\"ptbdata/ptb.train.txt\",\"r\")\n",
    "rawData = f.read()\n",
    "print(rawData[:1000])"
   ]
  },
  {
   "cell_type": "markdown",
   "metadata": {},
   "source": [
    "After opening the file, we can transfer the content in the file to string format. Then we can split the text string to individual words by blank."
   ]
  },
  {
   "cell_type": "code",
   "execution_count": 7,
   "metadata": {},
   "outputs": [
    {
     "name": "stdout",
     "output_type": "stream",
     "text": [
      "Split:\n",
      "['aer', 'banknote', 'berlitz', 'calloway', 'centrust', 'cluett', 'fromstein', 'gitano', 'guterman', 'hydro-quebec', 'ipo', 'kia', 'memotec', 'mlx', 'nahb', 'punts', 'rake', 'regatta', 'rubens', 'sim', 'snack-food', 'ssangyong', 'swapo', 'wachter', 'pierre', '<unk>', 'N', 'years', 'old', 'will', 'join', 'the', 'board', 'as', 'a', 'nonexecutive', 'director', 'nov.', 'N', 'mr.', '<unk>', 'is', 'chairman', 'of', '<unk>', 'n.v.', 'the', 'dutch', 'publishing', 'group', 'rudolph', '<unk>', 'N', 'years', 'old', 'and', 'former', 'chairman', 'of', 'consolidated', 'gold', 'fields', 'plc', 'was', 'named', 'a', 'nonexecutive', 'director', 'of', 'this', 'british', 'industrial', 'conglomerate', 'a', 'form', 'of', 'asbestos', 'once', 'used', 'to', 'make', 'kent', 'cigarette', 'filters', 'has', 'caused', 'a', 'high', 'percentage', 'of', 'cancer', 'deaths', 'among', 'a', 'group', 'of', 'workers', 'exposed', 'to', 'it']\n",
      "887521\n"
     ]
    }
   ],
   "source": [
    "# Transfer the raw data as strings using Tensorflow. \n",
    "# Then split it into individual words\n",
    "dataStr = tf.compat.as_str(rawData) #Convert to string\n",
    "print('Split:')\n",
    "data = dataStr.split() #Split by blank\n",
    "print(data[:100])\n",
    "print(len(data))"
   ]
  },
  {
   "cell_type": "markdown",
   "metadata": {},
   "source": [
    "### Create dictionary and numerical representation of the corpus\n",
    "We have the words sequence in the corpus. Now we want to use numbers to represent each word and create the dictionary of words and their corresponding number. After that, we can convert the whole text from word sequence to number sequence."
   ]
  },
  {
   "cell_type": "markdown",
   "metadata": {},
   "source": [
    "#### Count word number\n",
    "First, count the number of occurence of each word in the corpus."
   ]
  },
  {
   "cell_type": "code",
   "execution_count": 4,
   "metadata": {},
   "outputs": [
    {
     "name": "stdout",
     "output_type": "stream",
     "text": [
      "253854 different words were found in the corpus\n",
      "\n",
      "Part of the dictionary:\n"
     ]
    },
    {
     "data": {
      "text/plain": [
       "{'anarchism': 303,\n",
       " 'originated': 572,\n",
       " 'as': 131815,\n",
       " 'a': 325873,\n",
       " 'term': 7219,\n",
       " 'of': 593677,\n",
       " 'abuse': 563,\n",
       " 'first': 28810,\n",
       " 'used': 22737,\n",
       " 'against': 8432}"
      ]
     },
     "execution_count": 4,
     "metadata": {},
     "output_type": "execute_result"
    }
   ],
   "source": [
    "counted_words = collections.Counter(data)  #counted_words is a dictionary {'word1': num_1, 'word2': num_2, ...}\n",
    "print('%d different words were found in the corpus'%(len(counted_words)))\n",
    "print()\n",
    "print('Part of the dictionary:')\n",
    "dict(list(counted_words.items())[0:10])    #print 10 of them"
   ]
  },
  {
   "cell_type": "markdown",
   "metadata": {},
   "source": [
    "#### Select top frequent words\n",
    "From above, we can see that there are 253854 diffenent words in the corpus. However most of them have very few occurence, building a dictionary for them is highly uneconomical and inefficient. So we just choose the top 9999 frequent words to build the dictionary. The rest of the words which are less likely to occur were classified as 'LFW' aka 'Low Frequency Words'."
   ]
  },
  {
   "cell_type": "code",
   "execution_count": 5,
   "metadata": {},
   "outputs": [
    {
     "name": "stdout",
     "output_type": "stream",
     "text": [
      "There are 9999 words in the selected dictionary\n"
     ]
    }
   ],
   "source": [
    "freq_counted_words = dict(counted_words.most_common(9999))\n",
    "print('There are %d words in the selected dictionary'%(len(freq_counted_words)))"
   ]
  },
  {
   "cell_type": "markdown",
   "metadata": {},
   "source": [
    "Now conbine all other less frequently occured words as 'LFW', count their number of occurence."
   ]
  },
  {
   "cell_type": "code",
   "execution_count": 7,
   "metadata": {},
   "outputs": [
    {
     "name": "stdout",
     "output_type": "stream",
     "text": [
      "There are 10000 words in the dictionary\n",
      "\n",
      "The first 5 entries in the dictionary is:\n"
     ]
    },
    {
     "data": {
      "text/plain": [
       "{'lfw': 243855, 'the': 1061396, 'of': 593677, 'and': 416629, 'one': 411764}"
      ]
     },
     "execution_count": 7,
     "metadata": {},
     "output_type": "execute_result"
    }
   ],
   "source": [
    "lfw_count = 0\n",
    "for word in counted_words:\n",
    "    if not (word in freq_counted_words.keys()):\n",
    "        lfw_count += 1\n",
    "word_count_dict = {'lfw': lfw_count}\n",
    "word_count_dict.update(freq_counted_words)\n",
    "print('There are %d words in the dictionary'%(len(word_count_dict)))\n",
    "print()\n",
    "print('The first 5 entries in the dictionary is:')\n",
    "dict(list(word_count_dict.items())[:5])"
   ]
  },
  {
   "cell_type": "markdown",
   "metadata": {},
   "source": [
    "We have already selected the top 10000 frequent words in the corpus. Now we need to index them with numbers aka establish the word2number projection."
   ]
  },
  {
   "cell_type": "code",
   "execution_count": 8,
   "metadata": {},
   "outputs": [
    {
     "name": "stdout",
     "output_type": "stream",
     "text": [
      "The first 5 entries in the dictionary \"word_dict\" is: \n"
     ]
    },
    {
     "data": {
      "text/plain": [
       "{'lfw': 0, 'the': 1, 'of': 2, 'and': 3, 'one': 4}"
      ]
     },
     "execution_count": 8,
     "metadata": {},
     "output_type": "execute_result"
    }
   ],
   "source": [
    "ind = 0\n",
    "word_dict = {}\n",
    "for word in word_count_dict:\n",
    "    word_dict.update({word: ind})\n",
    "    ind += 1\n",
    "print('The first 5 entries in the dictionary \"word_dict\" is: ')\n",
    "dict(list(word_dict.items())[:5])"
   ]
  },
  {
   "cell_type": "markdown",
   "metadata": {},
   "source": [
    "Since we have already built the dictionary of words and their corresponding number(index). We can now transfer the initial corpus to a number sequence."
   ]
  },
  {
   "cell_type": "code",
   "execution_count": 9,
   "metadata": {},
   "outputs": [
    {
     "name": "stdout",
     "output_type": "stream",
     "text": [
      "The first 100 words in the corpus represented by their corresponding indeces are:\n",
      "[5234, 3081, 12, 6, 195, 2, 3134, 46, 59, 156, 128, 742, 477, 0, 134, 1, 0, 2, 1, 103, 855, 3, 1, 0, 0, 2, 1, 151, 855, 3581, 1, 195, 11, 191, 59, 5, 6, 0, 215, 7, 1325, 105, 455, 20, 59, 2732, 363, 7, 3673, 1, 709, 2, 372, 27, 41, 37, 54, 540, 98, 12, 6, 1424, 2758, 19, 568, 687, 7089, 1, 248, 5234, 11, 1053, 28, 1, 321, 249, 0, 2878, 793, 187, 5234, 12, 6, 201, 603, 11, 1, 1135, 20, 2622, 26, 8984, 3, 280, 32, 4148, 142, 60, 26, 6438]\n"
     ]
    }
   ],
   "source": [
    "num_corpus = []\n",
    "for word in data:\n",
    "    if word in word_dict.keys():\n",
    "        num_corpus.append(word_dict[word])\n",
    "    else:\n",
    "        num_corpus.append(word_dict['lfw'])\n",
    "print('The first 100 words in the corpus represented by their corresponding indeces are:')\n",
    "print(num_corpus[:100])"
   ]
  },
  {
   "cell_type": "markdown",
   "metadata": {},
   "source": [
    "We have the dictionary to project words to indeces. We now have to build a dictionary to project each index to its corresponding word. So that we can recover text from index sequence."
   ]
  },
  {
   "cell_type": "code",
   "execution_count": 10,
   "metadata": {},
   "outputs": [
    {
     "name": "stdout",
     "output_type": "stream",
     "text": [
      "The first 10 entries in dictionary index_dict is: \n"
     ]
    },
    {
     "data": {
      "text/plain": [
       "{0: 'lfw',\n",
       " 1: 'the',\n",
       " 2: 'of',\n",
       " 3: 'and',\n",
       " 4: 'one',\n",
       " 5: 'in',\n",
       " 6: 'a',\n",
       " 7: 'to',\n",
       " 8: 'zero',\n",
       " 9: 'nine'}"
      ]
     },
     "execution_count": 10,
     "metadata": {},
     "output_type": "execute_result"
    }
   ],
   "source": [
    "index_dict = dict(zip(word_dict.values(), word_dict.keys()))\n",
    "print('The first 10 entries in dictionary index_dict is: ')\n",
    "dict(list(index_dict.items())[:10])"
   ]
  },
  {
   "cell_type": "markdown",
   "metadata": {},
   "source": [
    "## Skip-gram\n",
    "\n",
    "The **skip-gram** conscept is used to create batches for the autoencoder neural network. It basically has two main conscepts:\n",
    "\n",
    "* **gram**: **gram** is a fix-sized sliding window over the corpus.\n",
    "\n",
    "* **skip**: **skip** is the number of times a word repeated in the dataset with different context words.\n",
    "\n",
    "The central word of the gram is called the **target**. And the rest of the words in the gram is the context words of the **target**. Utilising every context word may be computational expensive, thus we just randomly choose **skip** different context words for one **target** to train the autoencoder neural network."
   ]
  },
  {
   "cell_type": "markdown",
   "metadata": {},
   "source": [
    "### Neural network inputs and their labels\n",
    "\n",
    "Based on the conscept above, the input of the neural network is the initial representation of each **target** word. For example, in this experiment setting, the input would be a 10000 dimension one-hot vector denoting each **target**. And the label would also be a 10000 dimension one-hot vector denoting one of the context word of that  **target**. Basically, the inputs and their label are this kind of combination: \n",
    "\n",
    "${[target_1, context_1^{(i)}], [target_1, context_2^{(i)}], ..., [target_1, context_{skip}^{(i)}], ..., [target_{ng}, context_1^{(i)}], [target_{ng}, context_2^{(i)}], [target_{ng}, context_{skip}^{(i)}]}$.\n",
    "\n",
    "<img src=\"images/skip_gram.png\" alt=\"Drawing\" style=\"width: 500px;\"/>\n",
    "\n",
    "The following function can generate a mini-batch with size **batch_size**. **$target$** and **context** were generated separatley, both of which have the length of **batch_size**."
   ]
  },
  {
   "cell_type": "code",
   "execution_count": 35,
   "metadata": {},
   "outputs": [],
   "source": [
    "data_index = 0\n",
    "# generate batch data\n",
    "def generate_batch(data, batch_size, skip, sub_gram):\n",
    "    global data_index\n",
    "    assert batch_size % skip == 0\n",
    "    assert skip <= 2 * sub_gram\n",
    "    batch = np.ndarray(shape=(batch_size), dtype=np.int32)\n",
    "    context = np.ndarray(shape=(batch_size, 1), dtype=np.int32)\n",
    "    span = 2 * sub_gram + 1  # [ sub_gram input_word sub_gram]\n",
    "    buffer = collections.deque(maxlen=span)\n",
    "    for _ in range(span):\n",
    "        buffer.append(data[data_index])\n",
    "        data_index = (data_index + 1) % len(data)\n",
    "    for i in range(batch_size // skip):\n",
    "        target = sub_gram  # input word at the center of the buffer\n",
    "        targets_to_avoid = [sub_gram]\n",
    "        for j in range(skip):\n",
    "            while target in targets_to_avoid:\n",
    "                target = np.random.randint(0, span - 1)\n",
    "            targets_to_avoid.append(target)\n",
    "            batch[i * skip + j] = buffer[sub_gram]  # this is the input word\n",
    "            context[i * skip + j, 0] = buffer[target]  # these are the context words\n",
    "        buffer.append(data[data_index])\n",
    "        data_index = (data_index + 1) % len(data)\n",
    "    # Backtrack a little bit to avoid skipping words in the end of a batch\n",
    "    data_index = (data_index + len(data) - span) % len(data)\n",
    "    return batch, context"
   ]
  },
  {
   "cell_type": "markdown",
   "metadata": {},
   "source": [
    "## Autoencoder Network Setting\n",
    "Neural network settings:"
   ]
  },
  {
   "cell_type": "code",
   "execution_count": 27,
   "metadata": {},
   "outputs": [],
   "source": [
    "vocabulary_size = 10000\n",
    "batch_size = 128\n",
    "embedding_size = 128  # Dimension of the embedding vector aka the number of units in the hidden layer.\n",
    "sub_gram = 2          # (Span_of_gram-1)/2\n",
    "skip = 2              # How many times to reuse an input to generate a context."
   ]
  },
  {
   "cell_type": "markdown",
   "metadata": {},
   "source": [
    "Set placeholders for inputs and outputs:"
   ]
  },
  {
   "cell_type": "code",
   "execution_count": 28,
   "metadata": {},
   "outputs": [],
   "source": [
    "train_inputs = tf.placeholder(tf.int32, shape=[batch_size])\n",
    "train_context = tf.placeholder(tf.int32, shape=[batch_size, 1])"
   ]
  },
  {
   "cell_type": "markdown",
   "metadata": {},
   "source": [
    "Set variables in the network: the embedding here is a $(10000\\times128)$ weight matrix"
   ]
  },
  {
   "cell_type": "code",
   "execution_count": 29,
   "metadata": {},
   "outputs": [],
   "source": [
    "# weight matrix between input layer and hidden layer\n",
    "embeddings = tf.Variable(\n",
    "    tf.random_uniform([vocabulary_size, embedding_size], -1.0, 1.0))\n",
    "\n",
    "# get the corresponding embedding of input word.\n",
    "embed = tf.nn.embedding_lookup(embeddings, train_inputs)\n",
    "\n",
    "# weight matrix between hidden layer and the softmax layer\n",
    "weights = tf.Variable(tf.truncated_normal([embedding_size, vocabulary_size],\n",
    "                          stddev=1.0 / math.sqrt(embedding_size)))\n",
    "\n",
    "# biases of softmax layer\n",
    "biases = tf.Variable(tf.zeros([vocabulary_size]))\n",
    "\n",
    "hidden_out = tf.matmul(embed, weights) + biases"
   ]
  },
  {
   "cell_type": "markdown",
   "metadata": {},
   "source": [
    "Convert the context into a one-hot format:"
   ]
  },
  {
   "cell_type": "code",
   "execution_count": 30,
   "metadata": {},
   "outputs": [],
   "source": [
    "train_one_hot = tf.one_hot(train_context, vocabulary_size)"
   ]
  },
  {
   "cell_type": "markdown",
   "metadata": {},
   "source": [
    "Using crossentropy as the loss function."
   ]
  },
  {
   "cell_type": "code",
   "execution_count": 31,
   "metadata": {},
   "outputs": [],
   "source": [
    "cross_entropy = tf.reduce_mean(tf.nn.softmax_cross_entropy_with_logits(logits=hidden_out, \n",
    "    labels=train_one_hot))"
   ]
  },
  {
   "cell_type": "markdown",
   "metadata": {},
   "source": [
    "Set a gradient descent minimizer for the **cross_entropy**."
   ]
  },
  {
   "cell_type": "code",
   "execution_count": 32,
   "metadata": {},
   "outputs": [],
   "source": [
    "# Construct the SGD optimizer using a learning rate of 1.0.\n",
    "optimizer = tf.train.GradientDescentOptimizer(1.0).minimize(cross_entropy)"
   ]
  },
  {
   "cell_type": "markdown",
   "metadata": {},
   "source": [
    "Initialize all the parameters."
   ]
  },
  {
   "cell_type": "code",
   "execution_count": 33,
   "metadata": {},
   "outputs": [],
   "source": [
    "init = tf.global_variables_initializer()"
   ]
  },
  {
   "cell_type": "markdown",
   "metadata": {},
   "source": [
    "### Neural Network training"
   ]
  },
  {
   "cell_type": "code",
   "execution_count": 39,
   "metadata": {
    "scrolled": true
   },
   "outputs": [
    {
     "name": "stdout",
     "output_type": "stream",
     "text": [
      "Initialized\n",
      "Average loss at step  0 :  9.340882301330566\n",
      "Average loss at step  2000 :  6.716523780465126\n",
      "Average loss at step  4000 :  6.247654334843158\n",
      "Average loss at step  6000 :  6.252160863399506\n",
      "Average loss at step  8000 :  6.177210550308228\n",
      "Average loss at step  10000 :  5.95334085381031\n",
      "Average loss at step  12000 :  6.044154072523117\n",
      "Average loss at step  14000 :  5.928458213567734\n",
      "Average loss at step  16000 :  5.717213647961617\n",
      "Average loss at step  18000 :  5.702529030680656\n",
      "Average loss at step  20000 :  6.0616026866436\n",
      "Average loss at step  22000 :  6.039542630553245\n",
      "Average loss at step  24000 :  5.96240766775608\n",
      "Average loss at step  26000 :  5.943196316123009\n",
      "Average loss at step  28000 :  5.98998781311512\n",
      "Average loss at step  30000 :  5.848000244021415\n",
      "Average loss at step  32000 :  6.081995312213897\n",
      "Average loss at step  34000 :  6.031385659337044\n"
     ]
    },
    {
     "ename": "KeyboardInterrupt",
     "evalue": "",
     "output_type": "error",
     "traceback": [
      "\u001b[1;31m---------------------------------------------------------------------------\u001b[0m",
      "\u001b[1;31mKeyboardInterrupt\u001b[0m                         Traceback (most recent call last)",
      "\u001b[1;32m<ipython-input-39-56e3a5b6fb88>\u001b[0m in \u001b[0;36m<module>\u001b[1;34m\u001b[0m\n\u001b[0;32m     13\u001b[0m     \u001b[1;31m# We perform one update step by evaluating the optimizer op (including it\u001b[0m\u001b[1;33m\u001b[0m\u001b[1;33m\u001b[0m\u001b[1;33m\u001b[0m\u001b[0m\n\u001b[0;32m     14\u001b[0m     \u001b[1;31m# in the list of returned values for session.run()\u001b[0m\u001b[1;33m\u001b[0m\u001b[1;33m\u001b[0m\u001b[1;33m\u001b[0m\u001b[0m\n\u001b[1;32m---> 15\u001b[1;33m     \u001b[0m_\u001b[0m\u001b[1;33m,\u001b[0m \u001b[0mloss_val\u001b[0m \u001b[1;33m=\u001b[0m \u001b[0msession\u001b[0m\u001b[1;33m.\u001b[0m\u001b[0mrun\u001b[0m\u001b[1;33m(\u001b[0m\u001b[1;33m[\u001b[0m\u001b[0moptimizer\u001b[0m\u001b[1;33m,\u001b[0m \u001b[0mcross_entropy\u001b[0m\u001b[1;33m]\u001b[0m\u001b[1;33m,\u001b[0m \u001b[0mfeed_dict\u001b[0m\u001b[1;33m=\u001b[0m\u001b[0mfeed_dict\u001b[0m\u001b[1;33m)\u001b[0m\u001b[1;33m\u001b[0m\u001b[1;33m\u001b[0m\u001b[0m\n\u001b[0m\u001b[0;32m     16\u001b[0m     \u001b[0maverage_loss\u001b[0m \u001b[1;33m+=\u001b[0m \u001b[0mloss_val\u001b[0m\u001b[1;33m\u001b[0m\u001b[1;33m\u001b[0m\u001b[0m\n\u001b[0;32m     17\u001b[0m \u001b[1;33m\u001b[0m\u001b[0m\n",
      "\u001b[1;32m~\\Anaconda3\\lib\\site-packages\\tensorflow\\python\\client\\session.py\u001b[0m in \u001b[0;36mrun\u001b[1;34m(self, fetches, feed_dict, options, run_metadata)\u001b[0m\n\u001b[0;32m    948\u001b[0m     \u001b[1;32mtry\u001b[0m\u001b[1;33m:\u001b[0m\u001b[1;33m\u001b[0m\u001b[1;33m\u001b[0m\u001b[0m\n\u001b[0;32m    949\u001b[0m       result = self._run(None, fetches, feed_dict, options_ptr,\n\u001b[1;32m--> 950\u001b[1;33m                          run_metadata_ptr)\n\u001b[0m\u001b[0;32m    951\u001b[0m       \u001b[1;32mif\u001b[0m \u001b[0mrun_metadata\u001b[0m\u001b[1;33m:\u001b[0m\u001b[1;33m\u001b[0m\u001b[1;33m\u001b[0m\u001b[0m\n\u001b[0;32m    952\u001b[0m         \u001b[0mproto_data\u001b[0m \u001b[1;33m=\u001b[0m \u001b[0mtf_session\u001b[0m\u001b[1;33m.\u001b[0m\u001b[0mTF_GetBuffer\u001b[0m\u001b[1;33m(\u001b[0m\u001b[0mrun_metadata_ptr\u001b[0m\u001b[1;33m)\u001b[0m\u001b[1;33m\u001b[0m\u001b[1;33m\u001b[0m\u001b[0m\n",
      "\u001b[1;32m~\\Anaconda3\\lib\\site-packages\\tensorflow\\python\\client\\session.py\u001b[0m in \u001b[0;36m_run\u001b[1;34m(self, handle, fetches, feed_dict, options, run_metadata)\u001b[0m\n\u001b[0;32m   1171\u001b[0m     \u001b[1;32mif\u001b[0m \u001b[0mfinal_fetches\u001b[0m \u001b[1;32mor\u001b[0m \u001b[0mfinal_targets\u001b[0m \u001b[1;32mor\u001b[0m \u001b[1;33m(\u001b[0m\u001b[0mhandle\u001b[0m \u001b[1;32mand\u001b[0m \u001b[0mfeed_dict_tensor\u001b[0m\u001b[1;33m)\u001b[0m\u001b[1;33m:\u001b[0m\u001b[1;33m\u001b[0m\u001b[1;33m\u001b[0m\u001b[0m\n\u001b[0;32m   1172\u001b[0m       results = self._do_run(handle, final_targets, final_fetches,\n\u001b[1;32m-> 1173\u001b[1;33m                              feed_dict_tensor, options, run_metadata)\n\u001b[0m\u001b[0;32m   1174\u001b[0m     \u001b[1;32melse\u001b[0m\u001b[1;33m:\u001b[0m\u001b[1;33m\u001b[0m\u001b[1;33m\u001b[0m\u001b[0m\n\u001b[0;32m   1175\u001b[0m       \u001b[0mresults\u001b[0m \u001b[1;33m=\u001b[0m \u001b[1;33m[\u001b[0m\u001b[1;33m]\u001b[0m\u001b[1;33m\u001b[0m\u001b[1;33m\u001b[0m\u001b[0m\n",
      "\u001b[1;32m~\\Anaconda3\\lib\\site-packages\\tensorflow\\python\\client\\session.py\u001b[0m in \u001b[0;36m_do_run\u001b[1;34m(self, handle, target_list, fetch_list, feed_dict, options, run_metadata)\u001b[0m\n\u001b[0;32m   1348\u001b[0m     \u001b[1;32mif\u001b[0m \u001b[0mhandle\u001b[0m \u001b[1;32mis\u001b[0m \u001b[1;32mNone\u001b[0m\u001b[1;33m:\u001b[0m\u001b[1;33m\u001b[0m\u001b[1;33m\u001b[0m\u001b[0m\n\u001b[0;32m   1349\u001b[0m       return self._do_call(_run_fn, feeds, fetches, targets, options,\n\u001b[1;32m-> 1350\u001b[1;33m                            run_metadata)\n\u001b[0m\u001b[0;32m   1351\u001b[0m     \u001b[1;32melse\u001b[0m\u001b[1;33m:\u001b[0m\u001b[1;33m\u001b[0m\u001b[1;33m\u001b[0m\u001b[0m\n\u001b[0;32m   1352\u001b[0m       \u001b[1;32mreturn\u001b[0m \u001b[0mself\u001b[0m\u001b[1;33m.\u001b[0m\u001b[0m_do_call\u001b[0m\u001b[1;33m(\u001b[0m\u001b[0m_prun_fn\u001b[0m\u001b[1;33m,\u001b[0m \u001b[0mhandle\u001b[0m\u001b[1;33m,\u001b[0m \u001b[0mfeeds\u001b[0m\u001b[1;33m,\u001b[0m \u001b[0mfetches\u001b[0m\u001b[1;33m)\u001b[0m\u001b[1;33m\u001b[0m\u001b[1;33m\u001b[0m\u001b[0m\n",
      "\u001b[1;32m~\\Anaconda3\\lib\\site-packages\\tensorflow\\python\\client\\session.py\u001b[0m in \u001b[0;36m_do_call\u001b[1;34m(self, fn, *args)\u001b[0m\n\u001b[0;32m   1354\u001b[0m   \u001b[1;32mdef\u001b[0m \u001b[0m_do_call\u001b[0m\u001b[1;33m(\u001b[0m\u001b[0mself\u001b[0m\u001b[1;33m,\u001b[0m \u001b[0mfn\u001b[0m\u001b[1;33m,\u001b[0m \u001b[1;33m*\u001b[0m\u001b[0margs\u001b[0m\u001b[1;33m)\u001b[0m\u001b[1;33m:\u001b[0m\u001b[1;33m\u001b[0m\u001b[1;33m\u001b[0m\u001b[0m\n\u001b[0;32m   1355\u001b[0m     \u001b[1;32mtry\u001b[0m\u001b[1;33m:\u001b[0m\u001b[1;33m\u001b[0m\u001b[1;33m\u001b[0m\u001b[0m\n\u001b[1;32m-> 1356\u001b[1;33m       \u001b[1;32mreturn\u001b[0m \u001b[0mfn\u001b[0m\u001b[1;33m(\u001b[0m\u001b[1;33m*\u001b[0m\u001b[0margs\u001b[0m\u001b[1;33m)\u001b[0m\u001b[1;33m\u001b[0m\u001b[1;33m\u001b[0m\u001b[0m\n\u001b[0m\u001b[0;32m   1357\u001b[0m     \u001b[1;32mexcept\u001b[0m \u001b[0merrors\u001b[0m\u001b[1;33m.\u001b[0m\u001b[0mOpError\u001b[0m \u001b[1;32mas\u001b[0m \u001b[0me\u001b[0m\u001b[1;33m:\u001b[0m\u001b[1;33m\u001b[0m\u001b[1;33m\u001b[0m\u001b[0m\n\u001b[0;32m   1358\u001b[0m       \u001b[0mmessage\u001b[0m \u001b[1;33m=\u001b[0m \u001b[0mcompat\u001b[0m\u001b[1;33m.\u001b[0m\u001b[0mas_text\u001b[0m\u001b[1;33m(\u001b[0m\u001b[0me\u001b[0m\u001b[1;33m.\u001b[0m\u001b[0mmessage\u001b[0m\u001b[1;33m)\u001b[0m\u001b[1;33m\u001b[0m\u001b[1;33m\u001b[0m\u001b[0m\n",
      "\u001b[1;32m~\\Anaconda3\\lib\\site-packages\\tensorflow\\python\\client\\session.py\u001b[0m in \u001b[0;36m_run_fn\u001b[1;34m(feed_dict, fetch_list, target_list, options, run_metadata)\u001b[0m\n\u001b[0;32m   1339\u001b[0m       \u001b[0mself\u001b[0m\u001b[1;33m.\u001b[0m\u001b[0m_extend_graph\u001b[0m\u001b[1;33m(\u001b[0m\u001b[1;33m)\u001b[0m\u001b[1;33m\u001b[0m\u001b[1;33m\u001b[0m\u001b[0m\n\u001b[0;32m   1340\u001b[0m       return self._call_tf_sessionrun(\n\u001b[1;32m-> 1341\u001b[1;33m           options, feed_dict, fetch_list, target_list, run_metadata)\n\u001b[0m\u001b[0;32m   1342\u001b[0m \u001b[1;33m\u001b[0m\u001b[0m\n\u001b[0;32m   1343\u001b[0m     \u001b[1;32mdef\u001b[0m \u001b[0m_prun_fn\u001b[0m\u001b[1;33m(\u001b[0m\u001b[0mhandle\u001b[0m\u001b[1;33m,\u001b[0m \u001b[0mfeed_dict\u001b[0m\u001b[1;33m,\u001b[0m \u001b[0mfetch_list\u001b[0m\u001b[1;33m)\u001b[0m\u001b[1;33m:\u001b[0m\u001b[1;33m\u001b[0m\u001b[1;33m\u001b[0m\u001b[0m\n",
      "\u001b[1;32m~\\Anaconda3\\lib\\site-packages\\tensorflow\\python\\client\\session.py\u001b[0m in \u001b[0;36m_call_tf_sessionrun\u001b[1;34m(self, options, feed_dict, fetch_list, target_list, run_metadata)\u001b[0m\n\u001b[0;32m   1427\u001b[0m     return tf_session.TF_SessionRun_wrapper(\n\u001b[0;32m   1428\u001b[0m         \u001b[0mself\u001b[0m\u001b[1;33m.\u001b[0m\u001b[0m_session\u001b[0m\u001b[1;33m,\u001b[0m \u001b[0moptions\u001b[0m\u001b[1;33m,\u001b[0m \u001b[0mfeed_dict\u001b[0m\u001b[1;33m,\u001b[0m \u001b[0mfetch_list\u001b[0m\u001b[1;33m,\u001b[0m \u001b[0mtarget_list\u001b[0m\u001b[1;33m,\u001b[0m\u001b[1;33m\u001b[0m\u001b[1;33m\u001b[0m\u001b[0m\n\u001b[1;32m-> 1429\u001b[1;33m         run_metadata)\n\u001b[0m\u001b[0;32m   1430\u001b[0m \u001b[1;33m\u001b[0m\u001b[0m\n\u001b[0;32m   1431\u001b[0m   \u001b[1;32mdef\u001b[0m \u001b[0m_call_tf_sessionprun\u001b[0m\u001b[1;33m(\u001b[0m\u001b[0mself\u001b[0m\u001b[1;33m,\u001b[0m \u001b[0mhandle\u001b[0m\u001b[1;33m,\u001b[0m \u001b[0mfeed_dict\u001b[0m\u001b[1;33m,\u001b[0m \u001b[0mfetch_list\u001b[0m\u001b[1;33m)\u001b[0m\u001b[1;33m:\u001b[0m\u001b[1;33m\u001b[0m\u001b[1;33m\u001b[0m\u001b[0m\n",
      "\u001b[1;31mKeyboardInterrupt\u001b[0m: "
     ]
    }
   ],
   "source": [
    "num_steps = 100000\n",
    "with tf.Session() as session:\n",
    "  # We must initialize all variables before we use them.\n",
    "  init.run()\n",
    "  print('Initialized')\n",
    "\n",
    "  average_loss = 0\n",
    "  for step in range(num_steps):\n",
    "    batch_inputs, batch_context = generate_batch(num_corpus,\n",
    "        batch_size, skip, sub_gram)\n",
    "    feed_dict = {train_inputs: batch_inputs, train_context: batch_context}\n",
    "\n",
    "    # We perform one update step by evaluating the optimizer op (including it\n",
    "    # in the list of returned values for session.run()\n",
    "    _, loss_val = session.run([optimizer, cross_entropy], feed_dict=feed_dict)\n",
    "    average_loss += loss_val\n",
    "\n",
    "    if step % 2000 == 0:\n",
    "      if step > 0:\n",
    "        average_loss /= 2000\n",
    "      # The average loss is an estimate of the loss over the last 2000 batches.\n",
    "      print('Average loss at step ', step, ': ', average_loss)\n",
    "      average_loss = 0"
   ]
  },
  {
   "cell_type": "code",
   "execution_count": null,
   "metadata": {},
   "outputs": [],
   "source": []
  },
  {
   "cell_type": "code",
   "execution_count": null,
   "metadata": {},
   "outputs": [],
   "source": []
  }
 ],
 "metadata": {
  "kernelspec": {
   "display_name": "Python 3",
   "language": "python",
   "name": "python3"
  },
  "language_info": {
   "codemirror_mode": {
    "name": "ipython",
    "version": 3
   },
   "file_extension": ".py",
   "mimetype": "text/x-python",
   "name": "python",
   "nbconvert_exporter": "python",
   "pygments_lexer": "ipython3",
   "version": "3.7.3"
  },
  "nbTranslate": {
   "displayLangs": [
    "*"
   ],
   "hotkey": "alt-t",
   "langInMainMenu": true,
   "sourceLang": "en",
   "targetLang": "fr",
   "useGoogleTranslate": true
  }
 },
 "nbformat": 4,
 "nbformat_minor": 2
}
