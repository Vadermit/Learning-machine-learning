{
 "cells": [
  {
   "cell_type": "markdown",
   "metadata": {},
   "source": [
    "# A guide to build an ANN with Tensorflow\n",
    "\n",
    "First, let's see how Tensorflow works by a simple example."
   ]
  },
  {
   "cell_type": "code",
   "execution_count": 1,
   "metadata": {},
   "outputs": [],
   "source": [
    "import numpy as np\n",
    "import tensorflow as tf\n",
    "import os\n",
    "import matplotlib.pyplot as plt"
   ]
  },
  {
   "cell_type": "markdown",
   "metadata": {},
   "source": [
    "## Define Variables and Constants\n",
    "Before defining the operations, we need to define the variables and constants may be involved in those operations first.\n",
    "* The definition of constant in Tensorflow：in tensorflow, we just use the **tf.constant(init, name='xxx')** to define a constant where **init** is the value of that constant, and **name** is the name string of the constant."
   ]
  },
  {
   "cell_type": "code",
   "execution_count": 2,
   "metadata": {},
   "outputs": [],
   "source": [
    "a = tf.constant(2, name = 'cons')"
   ]
  },
  {
   "cell_type": "markdown",
   "metadata": {},
   "source": [
    "* The definition of variables with initial value: in tensorflow, if we want to define a variable and we know its initial value then we can initialize it usin the function **tf.Variable(init, name='xxx')** where **init** is the initial value of the variable and **name** is an optional string name of that variable."
   ]
  },
  {
   "cell_type": "code",
   "execution_count": 3,
   "metadata": {},
   "outputs": [],
   "source": [
    "b = tf.Variable(2, name = 'b')\n",
    "c = tf.Variable(1, name = 'c')"
   ]
  },
  {
   "cell_type": "markdown",
   "metadata": {},
   "source": [
    "* The definition of variables with out initial value: if we want to define some Tensorflow variables, and we don't know the initial value of those variables yet, then we need to define a variable container. The Tensorflow function **tf.placeholder(dtype, size, name)** will give us a tensor objec without initial values. **dtype** denote the data type of the elements in Tensor object(variable), **size** defines the size of the tensor and **name** of course denotes the string name of the Tensor object(variable)."
   ]
  },
  {
   "cell_type": "code",
   "execution_count": 4,
   "metadata": {},
   "outputs": [],
   "source": [
    "x = tf.placeholder(tf.float32, [None, 1], name = 'x')"
   ]
  },
  {
   "cell_type": "markdown",
   "metadata": {},
   "source": [
    "Let's take a look at the **size** parameter here in the function **tf.placeholder()**. The **size** is a list with the structure **[batchSize, dataSize]**, so **None** in the example above is actually the batch size which means we can set the batch size to any number and **1** is the data size which means that the inputs to later operations are a series(batch) of scalars."
   ]
  },
  {
   "cell_type": "markdown",
   "metadata": {},
   "source": [
    "## Define Operations\n",
    "We want them to do some calculations using the variables and constants defined above and derive some outputs. So we need to define those operation next."
   ]
  },
  {
   "cell_type": "code",
   "execution_count": 5,
   "metadata": {},
   "outputs": [],
   "source": [
    "op1 = tf.add(a, b, name = 'op1')\n",
    "op2 = tf.add(a, c, name = 'op2')\n",
    "op3 = tf.multiply(op1, op2, name = 'output')"
   ]
  },
  {
   "cell_type": "markdown",
   "metadata": {},
   "source": [
    "In the operations above, we set three operations to perform $(a + b)(a + c)$.\n",
    "\n",
    "Now it's time to run these operations and derive our outputs. But before that, we need to initialize our variables, constants and operations defined above."
   ]
  },
  {
   "cell_type": "code",
   "execution_count": 6,
   "metadata": {},
   "outputs": [],
   "source": [
    "init = tf.global_variables_initializer()"
   ]
  },
  {
   "cell_type": "markdown",
   "metadata": {},
   "source": [
    "To run the operations between the variables, we need to start a TensorFlow session – tf.Session.  The TensorFlow session is an object where all operations are run. "
   ]
  },
  {
   "cell_type": "code",
   "execution_count": 7,
   "metadata": {},
   "outputs": [
    {
     "name": "stdout",
     "output_type": "stream",
     "text": [
      "Variable op3 is 12\n"
     ]
    }
   ],
   "source": [
    "with tf.Session() as sess:\n",
    "    # run initialization\n",
    "    sess.run(init)\n",
    "    # compute the output\n",
    "    output = sess.run(op3)\n",
    "    print(\"Variable op3 is %d\"%(output))"
   ]
  },
  {
   "cell_type": "markdown",
   "metadata": {},
   "source": [
    "Here you can see that we don't need to run **op1** and **op2** manually, we only have to run the final operation **op3**, Tensorflow will automatically find out what other operations it depends on, and will run them before running **op3**. And finally we get the correct answer we wanted: $(1+2)\\times(2+2) = 12$"
   ]
  },
  {
   "cell_type": "markdown",
   "metadata": {},
   "source": [
    "## Using batch for multiple inputs\n",
    "We can actually feed multiple inputs to the operations at the same time and gets multiple outputs. We can do this by the aforementioned **tf.placeholder**. \n",
    "\n",
    "Now we want to perform the same operations defined above, but this time, there will be multiple **b** inputs feed into the operation.\n",
    "\n",
    "First, define the variables and constants."
   ]
  },
  {
   "cell_type": "code",
   "execution_count": 8,
   "metadata": {},
   "outputs": [],
   "source": [
    "a = tf.constant(2, name = 'cons')\n",
    "b = tf.placeholder(tf.int32, [None, 1], name = 'b')\n",
    "c = tf.Variable(1, name = 'c')"
   ]
  },
  {
   "cell_type": "markdown",
   "metadata": {},
   "source": [
    "Define operations."
   ]
  },
  {
   "cell_type": "code",
   "execution_count": 9,
   "metadata": {},
   "outputs": [],
   "source": [
    "op1 = tf.add(a, b, name = 'op1')\n",
    "op2 = tf.add(a, c, name = 'op2')\n",
    "op3 = tf.multiply(op1, op2, name = 'output')\n",
    "init = tf.global_variables_initializer()"
   ]
  },
  {
   "cell_type": "markdown",
   "metadata": {},
   "source": [
    "Run operations with **tf.Session()**. As mentioned before, the variable **b** defined by **tf.placeholder** doesn't have inital values, so we need to feed in the values before we run operations."
   ]
  },
  {
   "cell_type": "code",
   "execution_count": 10,
   "metadata": {},
   "outputs": [
    {
     "name": "stdout",
     "output_type": "stream",
     "text": [
      "The inputs b is:\n",
      "[[0]\n",
      " [1]\n",
      " [2]\n",
      " [3]\n",
      " [4]]\n",
      "Variable op3 is:\n",
      "[[ 6]\n",
      " [ 9]\n",
      " [12]\n",
      " [15]\n",
      " [18]]\n"
     ]
    }
   ],
   "source": [
    "b_val = np.arange(0, 5)[:, np.newaxis]\n",
    "with tf.Session() as sess:\n",
    "    # run initialization\n",
    "    sess.run(init)\n",
    "    # compute the output\n",
    "    output = sess.run(op3, feed_dict = {b: b_val})\n",
    "    print('The inputs b is:')\n",
    "    print(sess.run(b, feed_dict = {b: np.arange(0, 5)[:, np.newaxis]}))\n",
    "    print(\"Variable op3 is:\")\n",
    "    print(output)"
   ]
  },
  {
   "cell_type": "markdown",
   "metadata": {},
   "source": [
    "The **[:, np.newaxis]** actually turns a (5, ) sized numpy ndarray to size (5, 1). 5 inidicates that there are 5 samples in one batch, and 1 indicates that the input to the operations are scalars. Let's take a look at how the np.newaxis works."
   ]
  },
  {
   "cell_type": "code",
   "execution_count": 11,
   "metadata": {},
   "outputs": [
    {
     "name": "stdout",
     "output_type": "stream",
     "text": [
      "(10,)\n",
      "(10, 1)\n"
     ]
    }
   ],
   "source": [
    "a = np.arange(10)\n",
    "print(a.shape)\n",
    "b = a[:, np.newaxis]\n",
    "print(b.shape)"
   ]
  },
  {
   "cell_type": "code",
   "execution_count": 12,
   "metadata": {},
   "outputs": [
    {
     "name": "stdout",
     "output_type": "stream",
     "text": [
      "(5,)\n",
      "(1, 5)\n"
     ]
    }
   ],
   "source": [
    "a = np.array([1,2,3,4,5])\n",
    "print(a.shape)\n",
    "b = a[np.newaxis, :]\n",
    "print(b.shape)"
   ]
  },
  {
   "cell_type": "markdown",
   "metadata": {},
   "source": [
    "# Set up a three layer ANN with Tensorflow\n",
    "Now we know how the tensorflow works, we will then set up a three layer Artificial Neural Network using Tensorflow.\n",
    "\n",
    "Again, we will use the famous **MNIST** digits dataset to test our ANN. Detials of the dataset can be find in Notebook **A comprehensive guide to learn BP Artificail Neural Networks**. \n",
    "\n",
    "Since each digits in **MNIST** is represented by a $(8\\times8)$ image, the inputs to the ANN would be vectors of length $8\\times8 = 64$. The number of hidden layer neurons would be 32. And the output would be a vector of length 10, each element of which represents the probability of the image being that specific digits. \n",
    "\n",
    "### First things first, define the variables in the ANN:"
   ]
  },
  {
   "cell_type": "code",
   "execution_count": 13,
   "metadata": {},
   "outputs": [],
   "source": [
    "X = tf.placeholder(tf.float32, [None, 64], name = 'X')\n",
    "y = tf.placeholder(tf.float32, [None, 10], name = 'y')\n",
    "\n",
    "W1 = tf.Variable(tf.random_normal([64, 32], stddev = 0.03), name = 'W1')\n",
    "b1 = tf.Variable(tf.random_normal([32]), name = 'b1')\n",
    "\n",
    "W2 = tf.Variable(tf.random_normal([32, 10], stddev = 0.03), name = 'W2')\n",
    "b2 = tf.Variable(tf.random_normal([10]), name = 'b2')"
   ]
  },
  {
   "cell_type": "markdown",
   "metadata": {},
   "source": [
    "### Define the operations in the ANN"
   ]
  },
  {
   "cell_type": "code",
   "execution_count": 14,
   "metadata": {},
   "outputs": [],
   "source": [
    "hidden_output = tf.nn.relu(tf.add(tf.matmul(X, W1), b1))\n",
    "y_ = tf.nn.softmax(tf.add(tf.matmul(hidden_output, W2), b2))"
   ]
  },
  {
   "cell_type": "markdown",
   "metadata": {},
   "source": [
    "### Define the cost funtion\n",
    "We use the cross entropy of the predicted probability vector **$y_\\_$** and the actual one-hot vector **$y$** as the cost function. Cross-entropy loss, or log loss, measures the performance of a classification model whose output is a probability value between 0 and 1. Cross-entropy loss increases as the predicted probability diverges from the actual label. So predicting a probability of .012 when the actual observation label is 1 would be bad and result in a high loss value. A perfect model would have a log loss of 0.\n",
    "\n",
    "$$J = -\\frac{1}{m}\\sum_{i=1}^m\\sum_{j=1}^n y_i^{(j)}log(y_{i\\_}^{(j)})+(1-y_i^{(j)})log(1-y_{i\\_}^{(j)})$$\n",
    "Where **$m$** is the batch size and **$n$** is the size of output.\n",
    "\n",
    "As you can see, there is $log(y_\\_)$ and $log(1-y_\\_)$ in the cost function, so the elements in the predicted probability vector can not be either 0 or 1, so we need to limit **$y_\\_$** in range $(0, 1)$ using the Tensorflow fucntion **tf.clip_by_value(tensor, min, max)**. Any values less than **min** are set to **min**. Any values greater than **max** are set to **max**."
   ]
  },
  {
   "cell_type": "code",
   "execution_count": 15,
   "metadata": {},
   "outputs": [],
   "source": [
    "y_clipped = tf.clip_by_value(y_, 1e-10, 0.9999999)\n",
    "cross_entropy = -tf.reduce_mean(tf.reduce_sum(y * tf.log(y_clipped)\n",
    "                         + (1 - y) * tf.log(1 - y_clipped), axis=1))"
   ]
  },
  {
   "cell_type": "markdown",
   "metadata": {},
   "source": [
    "### Set optimiser\n",
    "Tensorflow provides us a series of neural network training optimsers in https://www.tensorflow.org/api_docs/python/tf/train, and we willl use the gradient descent optimiser here. "
   ]
  },
  {
   "cell_type": "code",
   "execution_count": 16,
   "metadata": {},
   "outputs": [
    {
     "name": "stderr",
     "output_type": "stream",
     "text": [
      "WARNING: Logging before flag parsing goes to stderr.\n",
      "W0915 11:47:11.008346 17280 deprecation.py:323] From C:\\Users\\lenovo\\Anaconda3\\lib\\site-packages\\tensorflow\\python\\ops\\math_grad.py:1250: add_dispatch_support.<locals>.wrapper (from tensorflow.python.ops.array_ops) is deprecated and will be removed in a future version.\n",
      "Instructions for updating:\n",
      "Use tf.where in 2.0, which has the same broadcast rule as np.where\n"
     ]
    }
   ],
   "source": [
    "optimiser = tf.train.GradientDescentOptimizer(learning_rate=0.5).minimize(cross_entropy)"
   ]
  },
  {
   "cell_type": "markdown",
   "metadata": {},
   "source": [
    "### Initialisation\n",
    "After all the variables involved in the neural network defined, we can initialise the Tensorflow graph by:"
   ]
  },
  {
   "cell_type": "code",
   "execution_count": 17,
   "metadata": {},
   "outputs": [],
   "source": [
    "init = tf.global_variables_initializer()"
   ]
  },
  {
   "cell_type": "markdown",
   "metadata": {},
   "source": [
    "## Load dataset\n",
    "Before we run the neural network using the Session() function, we need to load our dataset first. For details of the dataset, see Notebook **A comprehensive guide to learn BP neural networks**."
   ]
  },
  {
   "cell_type": "code",
   "execution_count": 18,
   "metadata": {},
   "outputs": [
    {
     "name": "stdout",
     "output_type": "stream",
     "text": [
      "Size of images is:\n",
      "(1797, 8, 8)\n",
      "Size of datas is:\n",
      "(1797, 64)\n",
      "Size of targets is:\n",
      "(1797,)\n"
     ]
    },
    {
     "data": {
      "image/png": "[encoded data removed]",
      "text/plain": [
       "<Figure size 288x288 with 1 Axes>"
      ]
     },
     "metadata": {
      "needs_background": "light"
     },
     "output_type": "display_data"
    }
   ],
   "source": [
    "from sklearn.datasets import load_digits\n",
    "import matplotlib.pyplot as plt\n",
    "digits = load_digits()   #load the dataset from sklearn\n",
    "images = digits.images\n",
    "datas = digits.data\n",
    "targets = digits.target\n",
    "\n",
    "print('Size of images is:')\n",
    "print(images.shape)\n",
    "print('Size of datas is:')\n",
    "print(datas.shape)\n",
    "print('Size of targets is:')\n",
    "print(targets.shape)\n",
    "\n",
    "plt.matshow(images[0]) \n",
    "plt.show()"
   ]
  },
  {
   "cell_type": "markdown",
   "metadata": {},
   "source": [
    "We need to standardize those inputs to $(-1, 1)$ first so that it will help the training of ANN convergent. We will use the function **StandardScaler** from sklearn to help us scaling the inputs."
   ]
  },
  {
   "cell_type": "code",
   "execution_count": 19,
   "metadata": {},
   "outputs": [
    {
     "name": "stdout",
     "output_type": "stream",
     "text": [
      "[ 0.         -0.33501649 -0.04308102  0.27407152 -0.66447751]\n"
     ]
    }
   ],
   "source": [
    "from sklearn.preprocessing import StandardScaler\n",
    "InputScaling = StandardScaler()\n",
    "transX = InputScaling.fit_transform(datas)\n",
    "print(transX[0][:5])"
   ]
  },
  {
   "cell_type": "markdown",
   "metadata": {},
   "source": [
    "However, we do not use 0-9 integers in the ANN as output, instead, we use an one-hot vector of lenth 10 to indicate the corresponding digits. By the word **one-hot** I mean it's a binary vector with only one element of which is 1 and others are 0. For example, I can use vector **[0, 1, 0, 0, 0, 0, 0, 0, 0, 0]** to indicate digit 1, and use **[0, 0, 0, 1, 0, 0, 0, 0, 0, 0]** to indicate digit 3. So I need to write a function to transform those targets into one-hot vectors."
   ]
  },
  {
   "cell_type": "code",
   "execution_count": 20,
   "metadata": {},
   "outputs": [
    {
     "name": "stdout",
     "output_type": "stream",
     "text": [
      "The label of the image above is transformed to:\n",
      "Tensor(\"strided_slice:0\", shape=(10,), dtype=float32)\n"
     ]
    }
   ],
   "source": [
    "import numpy as np\n",
    "def num2vect(y):\n",
    "    y_vect = np.zeros((len(y), 10))\n",
    "    for i in range(len(y)):\n",
    "        y_vect[i, y[i]] = 1\n",
    "    return y_vect\n",
    "transy = num2vect(targets)\n",
    "print('The label of the image above is transformed to:')\n",
    "print(y[0])"
   ]
  },
  {
   "cell_type": "markdown",
   "metadata": {},
   "source": [
    "Now we are going to use a function **train_test_split** from sklearn to randomly choose some elements in **datas** and **targets** as traning set and make the remains as test set."
   ]
  },
  {
   "cell_type": "code",
   "execution_count": 21,
   "metadata": {},
   "outputs": [
    {
     "name": "stdout",
     "output_type": "stream",
     "text": [
      "(1257, 64)\n",
      "[ 0.         -0.33501649 -1.09493684  0.98034282 -1.13109185]\n",
      "(1257, 10)\n",
      "[0. 0. 0. 0. 0. 0. 1. 0. 0. 0.]\n"
     ]
    }
   ],
   "source": [
    "from sklearn.model_selection import train_test_split\n",
    "X_train, X_test, y_train, y_test = train_test_split(transX, transy, test_size=0.3)\n",
    "print(X_train.shape)\n",
    "print(X_train[0][0:5])\n",
    "print(y_train.shape)\n",
    "print(y_train[0])"
   ]
  },
  {
   "cell_type": "markdown",
   "metadata": {},
   "source": [
    "Since we will use batch gradient descent approach to optimise those parameters(variables) in the neural network, we need to write a function to randomly chose a batch of samples from our training set."
   ]
  },
  {
   "cell_type": "code",
   "execution_count": 22,
   "metadata": {},
   "outputs": [],
   "source": [
    "def next_random_batch(batchSize, X, y):\n",
    "    '''\n",
    "    Return a total of `num` random samples and labels. \n",
    "    '''\n",
    "    idx = np.arange(0 , len(X))\n",
    "    np.random.shuffle(idx)\n",
    "    idx = idx[:batchSize]\n",
    "    X_shuffle = [X[i] for i in idx]\n",
    "    y_shuffle = [y[i] for i in idx]\n",
    "    return np.asarray(X_shuffle), np.asarray(y_shuffle)"
   ]
  },
  {
   "cell_type": "markdown",
   "metadata": {},
   "source": [
    "Here is a small demo of how the function **next_random_batch** work:"
   ]
  },
  {
   "cell_type": "code",
   "execution_count": 23,
   "metadata": {},
   "outputs": [
    {
     "name": "stdout",
     "output_type": "stream",
     "text": [
      "Test set X is:\n",
      "[[ 0  1  2]\n",
      " [ 3  4  5]\n",
      " [ 6  7  8]\n",
      " [ 9 10 11]\n",
      " [12 13 14]\n",
      " [15 16 17]]\n",
      "Their corresponding label is:\n",
      "[[ 0  1  2  3]\n",
      " [ 4  5  6  7]\n",
      " [ 8  9 10 11]\n",
      " [12 13 14 15]\n",
      " [16 17 18 19]\n",
      " [20 21 22 23]]\n",
      "X in a batch is\n",
      "[[ 3  4  5]\n",
      " [15 16 17]\n",
      " [ 6  7  8]]\n",
      "Their corresponding label is:\n",
      "[[ 4  5  6  7]\n",
      " [20 21 22 23]\n",
      " [ 8  9 10 11]]\n"
     ]
    }
   ],
   "source": [
    "btest_X = np.arange(0, 18).reshape(6, 3)\n",
    "btest_y = np.arange(0, 24).reshape(6, 4)\n",
    "batch_X, batch_y = next_random_batch(3, btest_X, btest_y)\n",
    "print('Test set X is:')\n",
    "print(btest_X)\n",
    "print('Their corresponding label is:')\n",
    "print(btest_y)\n",
    "print('X in a batch is')\n",
    "print(batch_X)\n",
    "print('Their corresponding label is:')\n",
    "print(batch_y)"
   ]
  },
  {
   "cell_type": "markdown",
   "metadata": {},
   "source": [
    "## Run the ANN with Tensorflow Session()\n",
    "Now we have all the preparation, we will run the training process(the optimisation operation) to train an ANN to perform digits recognition."
   ]
  },
  {
   "cell_type": "code",
   "execution_count": 24,
   "metadata": {},
   "outputs": [
    {
     "name": "stdout",
     "output_type": "stream",
     "text": [
      "Epoch 11 finished! Cross entropy is 0.084075\n",
      "Epoch 11 finished! Cross entropy is 0.017558\n",
      "Epoch 11 finished! Cross entropy is 0.007733\n",
      "Epoch 11 finished! Cross entropy is 0.011397\n",
      "Epoch 11 finished! Cross entropy is 0.005167\n",
      "Epoch 11 finished! Cross entropy is 0.003343\n",
      "Epoch 11 finished! Cross entropy is 0.002296\n",
      "Epoch 11 finished! Cross entropy is 0.001973\n",
      "Epoch 11 finished! Cross entropy is 0.001973\n",
      "Epoch 11 finished! Cross entropy is 0.000977\n",
      "The recognition accuracy in the testset is 0.972222\n",
      "Model saved\n"
     ]
    }
   ],
   "source": [
    "NN_name = 'mnist_ann'\n",
    "epoch = 10\n",
    "batchSize = 100\n",
    "batchNum = int(datas.shape[0] / batchSize)\n",
    "with tf.Session() as sess:\n",
    "    sess.run(init)\n",
    "    #Start training\n",
    "    for e in range(epoch):\n",
    "        for b in range(batchNum):\n",
    "            mean_ce = 0\n",
    "            XBatch, yBatch = next_random_batch(batchSize, X_train, y_train)\n",
    "            ce, _ = sess.run([cross_entropy, optimiser], feed_dict = {X: XBatch, y: yBatch})\n",
    "            mean_ce += ce/batchNum\n",
    "        print('Epoch %d finished! Cross entropy is %f'%(epoch + 1, mean_ce))\n",
    "    # Validation\n",
    "    accuracy = tf.reduce_mean(tf.cast(tf.equal(tf.argmax(y_, 1), tf.argmax(y, 1)), tf.float32))\n",
    "    acc = sess.run(accuracy, feed_dict = {X: X_test, y: y_test})\n",
    "    print('The recognition accuracy in the testset is %f'%(acc))\n",
    "    \n",
    "    #Save model\n",
    "    file_path= './'+ NN_name + '/'\n",
    "    if not os.path.exists(file_path):\n",
    "        os.mkdir(file_path)\n",
    "    saver = tf.train.Saver()\n",
    "    saver.save(sess, file_path+ 'model.checkpoint')\n",
    "    print('Model saved')"
   ]
  },
  {
   "cell_type": "markdown",
   "metadata": {},
   "source": [
    "## Recognise digits with the trained ANN model"
   ]
  },
  {
   "cell_type": "code",
   "execution_count": 26,
   "metadata": {},
   "outputs": [
    {
     "name": "stdout",
     "output_type": "stream",
     "text": [
      "Model loaded\n",
      "The real digit is 0\n",
      "Recognised as 0\n"
     ]
    },
    {
     "data": {
      "image/png": "[encoded data removed]",
      "text/plain": [
       "<Figure size 288x288 with 1 Axes>"
      ]
     },
     "metadata": {
      "needs_background": "light"
     },
     "output_type": "display_data"
    }
   ],
   "source": [
    "NN_name = 'mnist_ann'\n",
    "i = 0\n",
    "digData = transX[i][np.newaxis, :]\n",
    "diglabel = transy[i][np.newaxis, :]\n",
    "with tf.Session() as sess:\n",
    "    sess.run(tf.global_variables_initializer())\n",
    "    file_path = './' + NN_name + '/'\n",
    "    saver = tf.train.Saver()\n",
    "    saver.restore(sess, file_path+ 'model.checkpoint')\n",
    "    print('Model loaded')\n",
    "    vec_rec = sess.run(y_, feed_dict = {X: digData})\n",
    "    y_rec = np.argmax(vec_rec)\n",
    "    print('The real digit is %d'%(np.argmax(diglabel)))\n",
    "    print('Recognised as %d'%(y_rec))\n",
    "    plt.matshow(images[i]) "
   ]
  },
  {
   "cell_type": "code",
   "execution_count": 27,
   "metadata": {},
   "outputs": [
    {
     "data": {
      "text/plain": [
       "array([[1, 2, 3, 4, 5]])"
      ]
     },
     "execution_count": 27,
     "metadata": {},
     "output_type": "execute_result"
    }
   ],
   "source": [
    "ad = np.array([1,2,3,4,5])[np.newaxis, :]\n",
    "ad"
   ]
  },
  {
   "cell_type": "code",
   "execution_count": 28,
   "metadata": {},
   "outputs": [
    {
     "name": "stdout",
     "output_type": "stream",
     "text": [
      "Model loaded\n",
      "The real digit is 1\n",
      "Recognised as 1\n"
     ]
    },
    {
     "data": {
      "image/png": "[encoded data removed]",
      "text/plain": [
       "<Figure size 288x288 with 1 Axes>"
      ]
     },
     "metadata": {
      "needs_background": "light"
     },
     "output_type": "display_data"
    }
   ],
   "source": [
    "NN_name = 'mnist_ann'\n",
    "i = 1\n",
    "digData = transX[i][np.newaxis, :]\n",
    "diglabel = transy[i][np.newaxis, :]\n",
    "with tf.Session() as sess:\n",
    "    sess.run(tf.global_variables_initializer())\n",
    "    file_path = './' + NN_name + '/'\n",
    "    saver = tf.train.Saver()\n",
    "    saver.restore(sess, file_path+ 'model.checkpoint')\n",
    "    print('Model loaded')\n",
    "    vec_rec = sess.run(y_, feed_dict = {X: digData})\n",
    "    y_rec = np.argmax(vec_rec)\n",
    "    print('The real digit is %d'%(np.argmax(diglabel)))\n",
    "    print('Recognised as %d'%(y_rec))\n",
    "    plt.matshow(images[i]) "
   ]
  },
  {
   "cell_type": "code",
   "execution_count": 29,
   "metadata": {},
   "outputs": [
    {
     "name": "stdout",
     "output_type": "stream",
     "text": [
      "Model loaded\n",
      "The real digit is 2\n",
      "Recognised as 2\n"
     ]
    },
    {
     "data": {
      "image/png": "[encoded data removed]",
      "text/plain": [
       "<Figure size 288x288 with 1 Axes>"
      ]
     },
     "metadata": {
      "needs_background": "light"
     },
     "output_type": "display_data"
    }
   ],
   "source": [
    "NN_name = 'mnist_ann'\n",
    "i = 2\n",
    "digData = transX[i][np.newaxis, :]\n",
    "diglabel = transy[i][np.newaxis, :]\n",
    "with tf.Session() as sess:\n",
    "    sess.run(tf.global_variables_initializer())\n",
    "    file_path = './' + NN_name + '/'\n",
    "    saver = tf.train.Saver()\n",
    "    saver.restore(sess, file_path+ 'model.checkpoint')\n",
    "    print('Model loaded')\n",
    "    vec_rec = sess.run(y_, feed_dict = {X: digData})\n",
    "    y_rec = np.argmax(vec_rec)\n",
    "    print('The real digit is %d'%(np.argmax(diglabel)))\n",
    "    print('Recognised as %d'%(y_rec))\n",
    "    plt.matshow(images[i]) "
   ]
  },
  {
   "cell_type": "code",
   "execution_count": 30,
   "metadata": {},
   "outputs": [
    {
     "name": "stdout",
     "output_type": "stream",
     "text": [
      "Model loaded\n",
      "The real digit is 3\n",
      "Recognised as 3\n"
     ]
    },
    {
     "data": {
      "image/png": "[encoded data removed]",
      "text/plain": [
       "<Figure size 288x288 with 1 Axes>"
      ]
     },
     "metadata": {
      "needs_background": "light"
     },
     "output_type": "display_data"
    }
   ],
   "source": [
    "NN_name = 'mnist_ann'\n",
    "i = 3\n",
    "digData = transX[i][np.newaxis, :]\n",
    "diglabel = transy[i][np.newaxis, :]\n",
    "with tf.Session() as sess:\n",
    "    sess.run(tf.global_variables_initializer())\n",
    "    file_path = './' + NN_name + '/'\n",
    "    saver = tf.train.Saver()\n",
    "    saver.restore(sess, file_path+ 'model.checkpoint')\n",
    "    print('Model loaded')\n",
    "    vec_rec = sess.run(y_, feed_dict = {X: digData})\n",
    "    y_rec = np.argmax(vec_rec)\n",
    "    print('The real digit is %d'%(np.argmax(diglabel)))\n",
    "    print('Recognised as %d'%(y_rec))\n",
    "    plt.matshow(images[i]) "
   ]
  },
  {
   "cell_type": "code",
   "execution_count": null,
   "metadata": {},
   "outputs": [],
   "source": []
  }
 ],
 "metadata": {
  "kernelspec": {
   "display_name": "Python 3",
   "language": "python",
   "name": "python3"
  },
  "language_info": {
   "codemirror_mode": {
    "name": "ipython",
    "version": 3
   },
   "file_extension": ".py",
   "mimetype": "text/x-python",
   "name": "python",
   "nbconvert_exporter": "python",
   "pygments_lexer": "ipython3",
   "version": "3.7.3"
  },
  "nbTranslate": {
   "displayLangs": [
    "*"
   ],
   "hotkey": "alt-t",
   "langInMainMenu": true,
   "sourceLang": "en",
   "targetLang": "fr",
   "useGoogleTranslate": true
  }
 },
 "nbformat": 4,
 "nbformat_minor": 2
}
